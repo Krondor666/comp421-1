{
 "cells": [
  {
   "cell_type": "code",
   "execution_count": 1,
   "metadata": {
    "collapsed": true
   },
   "outputs": [],
   "source": [
    "import numpy as np\n",
    "import matplotlib.pyplot as plt\n",
    "%matplotlib inline\n",
    "import numpy.random as rng\n",
    "from scipy.special import expit as sigmoid\n",
    "\n",
    "#from sklearn.neural_network import BernoulliRBM\n",
    "\n",
    "def load_mnist_digit(digit, dataset_size):\n",
    "    assert(digit >= 0 and digit < 10)\n",
    "    with open(\"datasets/{}.npy\".format(digit),'rb') as f:\n",
    "        return np.load(f)[:dataset_size]\n",
    "    \n",
    "def flatten_dataset(images):\n",
    "    smushed = images.copy()\n",
    "    return smushed.reshape((smushed.shape[0], -1))\n",
    "\n",
    "dataset_size = 200  # that's how many of EACH digit there is. Can go as high as... what, 5000?\n",
    "current_digits = flatten_dataset(load_mnist_digit(0,dataset_size))\n",
    "for i in range(1,3):\n",
    "    current_digits = np.vstack((current_digits, flatten_dataset(load_mnist_digit(i,dataset_size))))"
   ]
  },
  {
   "cell_type": "code",
   "execution_count": 2,
   "metadata": {
    "collapsed": false
   },
   "outputs": [
    {
     "name": "stdout",
     "output_type": "stream",
     "text": [
      "(600, 784)\n"
     ]
    }
   ],
   "source": [
    "print (current_digits.shape)\n",
    "num_pats = current_digits.shape[0]\n",
    "num_visibles = current_digits.shape[1]"
   ]
  },
  {
   "cell_type": "markdown",
   "metadata": {},
   "source": [
    "## Show some examples...."
   ]
  },
  {
   "cell_type": "code",
   "execution_count": 3,
   "metadata": {
    "collapsed": false
   },
   "outputs": [
    {
     "name": "stdout",
     "output_type": "stream",
     "text": [
      "(600, 784)\n"
     ]
    },
    {
     "data": {
      "image/png": "[encoded data removed]",
      "text/plain": [
       "<matplotlib.figure.Figure at 0x2e1a158>"
      ]
     },
     "metadata": {},
     "output_type": "display_data"
    }
   ],
   "source": [
    "print(current_digits.shape)\n",
    "i=0\n",
    "for r in range(6):\n",
    "    for c in range(6):\n",
    "        plt.subplot(6,6,i+1)\n",
    "        plt.imshow(current_digits[rng.randint(num_pats)].reshape(28,28), cmap='Greys', interpolation='nearest')\n",
    "        plt.axis('off')\n",
    "        i += 1"
   ]
  },
  {
   "cell_type": "code",
   "execution_count": 4,
   "metadata": {
    "collapsed": true
   },
   "outputs": [],
   "source": [
    "v = current_digits\n",
    "num_hiddens = 100\n",
    "h = np.zeros(shape=(num_pats, num_hiddens), dtype=int)\n",
    "W = rng.normal(0,1,size=(num_hiddens, num_visibles))\n",
    "hidden_biases = rng.normal(size=(1, num_hiddens))\n",
    "visible_biases = rng.normal(size=(1, num_visibles))\n",
    "learning_rate, momentum = 0.005, 0.8\n",
    "change = 0"
   ]
  },
  {
   "cell_type": "code",
   "execution_count": 7,
   "metadata": {
    "collapsed": true
   },
   "outputs": [],
   "source": [
    "num_examples = 6\n",
    "V_test = current_digits[0:num_examples,:]"
   ]
  },
  {
   "cell_type": "code",
   "execution_count": 9,
   "metadata": {
    "collapsed": false
   },
   "outputs": [
    {
     "data": {
      "image/png": "[encoded data removed]",
      "text/plain": [
       "<matplotlib.figure.Figure at 0x4020158>"
      ]
     },
     "metadata": {},
     "output_type": "display_data"
    },
    {
     "data": {
      "image/png": "[encoded data removed]",
      "text/plain": [
       "<matplotlib.figure.Figure at 0x5d9e278>"
      ]
     },
     "metadata": {},
     "output_type": "display_data"
    }
   ],
   "source": [
    "i = 0\n",
    "num_Gibbs = 1000\n",
    "for s in range(3):\n",
    "    for n in range(num_examples):\n",
    "        i += 1\n",
    "        plt.subplot(6,num_examples,i)\n",
    "        plt.imshow(V_test[n].reshape(28,28), cmap='Greys', interpolation='nearest')\n",
    "        plt.axis('off')\n",
    "\n",
    "    for t in range(num_Gibbs):\n",
    "        # push visible pats into hidden \n",
    "        h_prob1 = sigmoid(np.dot(V_test, W.T) + hidden_biases)\n",
    "        h = 1*(h_prob1 > rng.random(size=h_prob1.shape))\n",
    "        # push hidden pats into visible \n",
    "        v_prob1 = sigmoid(np.dot(h, W) + visible_biases)\n",
    "        V_test = 1*(v_prob1 > rng.random(size=v_prob1.shape))\n",
    "        \n",
    "    plt.show()"
   ]
  },
  {
   "cell_type": "code",
   "execution_count": null,
   "metadata": {
    "collapsed": false
   },
   "outputs": [],
   "source": [
    "num_iterations = 25\n",
    "announce_every = num_iterations / 10\n",
    "\n",
    "for t in range(num_iterations):\n",
    "    # push visible pats into hidden \n",
    "    h_prob1 = sigmoid(np.dot(v, W.T) + hidden_biases)\n",
    "    h_first = 1*(h_prob1 > rng.random(size=h_prob1.shape))\n",
    "    \n",
    "    # push hidden pats into visible \n",
    "    v_prob1 = sigmoid(np.dot(h_first, W) + visible_biases)\n",
    "    v_reconstruction = v_prob1  # = 1*(v_prob1 > rng.random(size=v_prob1.shape))\n",
    "\n",
    "    # push visible pats into hidden \n",
    "    h_prob1 = sigmoid(np.dot(v_reconstruction, W.T) + hidden_biases)\n",
    "    h_second = 1*(h_prob1 > rng.random(size=h_prob1.shape))\n",
    "\n",
    "    Hebb = ((np.array([h_first]*num_visibles).T)  * (np.array([v]*num_hiddens))).sum(1)\n",
    "    AntiHebb = ((np.array([h_second]*num_visibles).T)  * (np.array([v_reconstruction]*num_hiddens))).sum(1)\n",
    "\n",
    "    change = learning_rate * (Hebb - AntiHebb) + momentum * change\n",
    "    W += change\n",
    "    if (t % announce_every == 0): \n",
    "        print (t)\n",
    "\n",
    "print(h.shape, v.shape)"
   ]
  },
  {
   "cell_type": "markdown",
   "metadata": {},
   "source": [
    "## features"
   ]
  },
  {
   "cell_type": "code",
   "execution_count": null,
   "metadata": {
    "collapsed": false
   },
   "outputs": [],
   "source": [
    "i=0\n",
    "for r in range(4):\n",
    "    for c in range(3):\n",
    "        plt.subplot(4,3,i+1)\n",
    "        plt.imshow(W[i].reshape(28,28), cmap='Greys', interpolation='nearest')\n",
    "        plt.axis('off')\n",
    "        i += 1"
   ]
  },
  {
   "cell_type": "markdown",
   "metadata": {},
   "source": [
    "## dreams\n",
    "\n",
    "Ah, but something's wrong here still.  Awkward."
   ]
  },
  {
   "cell_type": "code",
   "execution_count": null,
   "metadata": {
    "collapsed": true
   },
   "outputs": [],
   "source": [
    "num_examples = 6\n",
    "V_test = current_digits[0:num_examples,:]"
   ]
  },
  {
   "cell_type": "code",
   "execution_count": null,
   "metadata": {
    "collapsed": false
   },
   "outputs": [],
   "source": [
    "i = 0\n",
    "num_Gibbs = 1000\n",
    "for s in range(6):\n",
    "    for t in range(num_Gibbs):\n",
    "        # push visible pats into hidden \n",
    "        h_prob1 = sigmoid(np.dot(V_test, W.T) + hidden_biases)\n",
    "        h = 1*(h_prob1 > rng.random(size=h_prob1.shape))\n",
    "        # push hidden pats into visible \n",
    "        v_prob1 = sigmoid(np.dot(h, W) + visible_biases)\n",
    "        V_test = 1*(v_prob1 > rng.random(size=v_prob1.shape))\n",
    "        \n",
    "    for n in range(num_examples):\n",
    "        i += 1\n",
    "        plt.subplot(6,num_examples,i)\n",
    "        plt.imshow(V_test[n].reshape(28,28), cmap='Greys', interpolation='nearest')\n",
    "        plt.axis('off')\n",
    "    plt.show()"
   ]
  },
  {
   "cell_type": "markdown",
   "metadata": {
    "collapsed": true
   },
   "source": [
    "A pox upon these patterns, which maketh not sense.\n",
    "The first row should be from the dataset!"
   ]
  },
  {
   "cell_type": "code",
   "execution_count": null,
   "metadata": {
    "collapsed": true
   },
   "outputs": [],
   "source": []
  }
 ],
 "metadata": {
  "kernelspec": {
   "display_name": "Python 3",
   "language": "python",
   "name": "python3"
  },
  "language_info": {
   "codemirror_mode": {
    "name": "ipython",
    "version": 3
   },
   "file_extension": ".py",
   "mimetype": "text/x-python",
   "name": "python",
   "nbconvert_exporter": "python",
   "pygments_lexer": "ipython3",
   "version": "3.4.3"
  }
 },
 "nbformat": 4,
 "nbformat_minor": 0
}
