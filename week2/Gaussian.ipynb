{
 "cells": [
  {
   "cell_type": "markdown",
   "metadata": {},
   "source": [
    "# A simple Gaussian, projected into different number of dimensions"
   ]
  },
  {
   "cell_type": "code",
   "execution_count": 27,
   "metadata": {
    "collapsed": false
   },
   "outputs": [],
   "source": [
    "%matplotlib inline\n",
    "import numpy as np\n",
    "import numpy.random as rng\n",
    "import matplotlib.pyplot as plt\n",
    "np.set_printoptions(precision=2)"
   ]
  },
  {
   "cell_type": "code",
   "execution_count": 28,
   "metadata": {
    "collapsed": false
   },
   "outputs": [],
   "source": [
    "def do_plots(data, colour='black'):\n",
    "    ndims = data.shape[1] # the number of columns\n",
    "    i = 0\n",
    "    for r in range(ndims):\n",
    "        for c in range(ndims):\n",
    "            i = i+1\n",
    "            plt.subplot(ndims, ndims, i)\n",
    "            plt.axis('off')\n",
    "            if (r <= c):\n",
    "                plt.scatter(data[:,r], data[:,c], color=colour, marker='.', alpha=0.3)\n",
    "                a=plt.axis('equal')\n",
    "                a=plt.axis([-4,4,-4,4])\n",
    "                plt.text(0,a[2]-1,'%d vs %d' % (r,c))"
   ]
  },
  {
   "cell_type": "markdown",
   "metadata": {},
   "source": [
    "### Make up some random data from a spherical Gaussian"
   ]
  },
  {
   "cell_type": "code",
   "execution_count": 29,
   "metadata": {
    "collapsed": false
   },
   "outputs": [],
   "source": [
    "first_dims, second_dims = 2, 5\n",
    "first_data = rng.randn(200, first_dims)"
   ]
  },
  {
   "cell_type": "code",
   "execution_count": 30,
   "metadata": {
    "collapsed": false
   },
   "outputs": [
    {
     "name": "stdout",
     "output_type": "stream",
     "text": [
      "first_data dimensions:   (200, 2)\n",
      "[[ 1.13  0.03]\n",
      " [ 0.03  1.02]]\n"
     ]
    }
   ],
   "source": [
    "print('first_data dimensions:  ', first_data.shape)\n",
    "X = first_data - np.mean(first_data, axis=0)  # take away the mean\n",
    "cov_estimate = np.dot(X.T, X) / X.shape[0]\n",
    "print(cov_estimate)"
   ]
  },
  {
   "cell_type": "markdown",
   "metadata": {},
   "source": [
    "### plot some dimensions against others, in the first data space."
   ]
  },
  {
   "cell_type": "code",
   "execution_count": 31,
   "metadata": {
    "collapsed": false
   },
   "outputs": [
    {
     "data": {
      "image/png": "[encoded data removed]",
      "text/plain": [
       "<matplotlib.figure.Figure at 0x7fc7b1f2db38>"
      ]
     },
     "metadata": {},
     "output_type": "display_data"
    }
   ],
   "source": [
    "do_plots(first_data, 'blue')"
   ]
  },
  {
   "cell_type": "markdown",
   "metadata": {},
   "source": [
    "### Project data linearly into a second space with different number of dimensions\n",
    "oh and I will add a tiny bit of Gaussian noise once we get there too, just so it isn't an infinitely thin pancake..."
   ]
  },
  {
   "cell_type": "code",
   "execution_count": 36,
   "metadata": {
    "collapsed": false
   },
   "outputs": [
    {
     "name": "stdout",
     "output_type": "stream",
     "text": [
      "second_data dimensions:  (200, 5)\n",
      "weights: \n",
      " [[ 0.87  0.03 -0.21  0.41  1.66]\n",
      " [-1.46  0.96 -0.82 -1.12 -0.05]]\n",
      "cov_estimate: \n",
      " [[ 2.95 -1.38  0.99  2.02  1.64]\n",
      " [-1.38  0.94 -0.81 -1.07  0.04]\n",
      " [ 0.99 -0.81  0.74  0.83 -0.38]\n",
      " [ 2.02 -1.07  0.83  1.44  0.78]\n",
      " [ 1.64  0.04 -0.38  0.78  3.11]]\n"
     ]
    }
   ],
   "source": [
    "W = 2 * rng.randn(first_dims, second_dims)\n",
    "second_data = np.dot(first_data, W)\n",
    "second_data = second_data + 0.0001*rng.randn(second_data.shape[0], second_data.shape[1])\n",
    "print('second_data dimensions: ', second_data.shape)\n",
    "print('weights: \\n', W)\n",
    "X = second_data - np.mean(second_data, axis=0)  # take away the mean\n",
    "cov_estimate = np.dot(X.T, X) / X.shape[0]\n",
    "print('cov_estimate: \\n', cov_estimate)\n",
    "#print(np.linalg.inv(cov_estimate))"
   ]
  },
  {
   "cell_type": "markdown",
   "metadata": {},
   "source": [
    "### plot some dimensions against others, in the second data space."
   ]
  },
  {
   "cell_type": "code",
   "execution_count": 37,
   "metadata": {
    "collapsed": false
   },
   "outputs": [
    {
     "data": {
      "image/png": "[encoded data removed]",
      "text/plain": [
       "<matplotlib.figure.Figure at 0x7fc7b13abe48>"
      ]
     },
     "metadata": {},
     "output_type": "display_data"
    }
   ],
   "source": [
    "do_plots(second_data, 'green')"
   ]
  },
  {
   "cell_type": "markdown",
   "metadata": {},
   "source": [
    "## \"SVD\" is one technique from linear algebra for finding the principal components."
   ]
  },
  {
   "cell_type": "code",
   "execution_count": 38,
   "metadata": {
    "collapsed": false
   },
   "outputs": [
    {
     "name": "stdout",
     "output_type": "stream",
     "text": [
      "The eigenvalues are:\n",
      "[  3.54e+01   2.42e+01   1.54e-03   1.49e-03   1.31e-03]\n",
      "\n",
      "\n",
      " And the eigenvectors are:\n",
      "[[-0.68  0.1   0.72  0.05 -0.01]\n",
      " [ 0.3  -0.37  0.39 -0.76  0.21]\n",
      " [-0.21  0.4  -0.23 -0.57 -0.65]\n",
      " [-0.46  0.2  -0.43 -0.31  0.69]\n",
      " [-0.44 -0.81 -0.31 -0.01 -0.25]]\n"
     ]
    }
   ],
   "source": [
    "eigenvectors, eigenvalues, V = np.linalg.svd(second_data.T, full_matrices=False)\n",
    "projected_data = np.dot(second_data, eigenvectors)\n",
    "sigma = projected_data.std(axis=0).mean()\n",
    "print(\"The eigenvalues are:\")\n",
    "print(eigenvalues)\n",
    "print(\"\\n\\n And the eigenvectors are:\")\n",
    "print(eigenvectors)\n"
   ]
  },
  {
   "cell_type": "code",
   "execution_count": 39,
   "metadata": {
    "collapsed": false
   },
   "outputs": [],
   "source": [
    "#w,v = np.linalg.eig((np.dot(W.T, W)))\n",
    "#print('eigenvals: ', w)\n",
    "#print('eigenvecs: \\n',v)"
   ]
  }
 ],
 "metadata": {
  "kernelspec": {
   "display_name": "Python 3",
   "language": "python",
   "name": "python3"
  },
  "language_info": {
   "codemirror_mode": {
    "name": "ipython",
    "version": 3
   },
   "file_extension": ".py",
   "mimetype": "text/x-python",
   "name": "python",
   "nbconvert_exporter": "python",
   "pygments_lexer": "ipython3",
   "version": "3.5.1"
  }
 },
 "nbformat": 4,
 "nbformat_minor": 0
}
