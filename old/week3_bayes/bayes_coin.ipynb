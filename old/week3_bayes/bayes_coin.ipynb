{
 "cells": [
  {
   "cell_type": "markdown",
   "metadata": {},
   "source": [
    "# Bayesian inference of the bentness of a coin"
   ]
  },
  {
   "cell_type": "code",
   "execution_count": 1,
   "metadata": {
    "collapsed": false
   },
   "outputs": [],
   "source": [
    "%matplotlib inline\n",
    "import matplotlib as mpl\n",
    "import numpy as np\n",
    "import matplotlib.pyplot as plt\n",
    "import numpy.random as rng\n",
    "np.set_printoptions(precision = 2, suppress = True)\n",
    "\n",
    "import math, time\n",
    "true_bentness =0.4                   #  <---------- set the true bentness to something here.\n",
    "\n",
    "possible_bentnesses = np.linspace(0, 1, 51)\n",
    "rng.seed(int(time.time())) # seed the random number generator"
   ]
  },
  {
   "cell_type": "code",
   "execution_count": 2,
   "metadata": {
    "collapsed": false
   },
   "outputs": [],
   "source": [
    "def toss_once(tossdata, prior, X, true_bentness):\n",
    "    options = ['T','H']\n",
    "    plt.clf()\n",
    "    plt.fill_between(X,0,prior,color=[.2,.5,.7]) # shows the current prior as blue. Prettier than plot!\n",
    "    r = rng.random()\n",
    "    tossdata.append(options[int(r < true_bentness)])  # tosses a coin and stores\n",
    "    if tossdata[-1] is options[1]:\n",
    "        likelihood = X\n",
    "    else:\n",
    "        likelihood = 1 - X\n",
    "    posterior = prior * likelihood                    # multiply the prior by the likelihood\n",
    "    z = plt.plot(X,likelihood,'-k',linewidth=2)\n",
    "    posterior = posterior/np.sum(posterior) *len(X)          # re-normalise Y values (ie. ensure area under curve = 1)\n",
    "    return tossdata, posterior"
   ]
  },
  {
   "cell_type": "code",
   "execution_count": 3,
   "metadata": {
    "collapsed": false
   },
   "outputs": [],
   "source": [
    "data = []\n",
    "prior = np.ones(np.shape(possible_bentnesses)) # start off with this \"flat\" prior over bentness"
   ]
  },
  {
   "cell_type": "markdown",
   "metadata": {},
   "source": [
    "Now a big loop of data gathering:\n",
    "\n",
    "**select the cell below, and press Ctrl-Enter, repeatedly**"
   ]
  },
  {
   "cell_type": "code",
   "execution_count": 11,
   "metadata": {
    "collapsed": false
   },
   "outputs": [
    {
     "name": "stdout",
     "output_type": "stream",
     "text": [
      "Data:  T,T,T,T,T,H,T,H\n"
     ]
    },
    {
     "data": {
      "image/png": "[encoded data removed]",
      "text/plain": [
       "<matplotlib.figure.Figure at 0x45ea2e8>"
      ]
     },
     "metadata": {},
     "output_type": "display_data"
    }
   ],
   "source": [
    "data, posterior = toss_once(data, prior, possible_bentnesses, true_bentness)\n",
    "prior = posterior\n",
    "print ('Data: ', ','.join(data))"
   ]
  },
  {
   "cell_type": "markdown",
   "metadata": {},
   "source": [
    "So... \n",
    "In \"tossonce\" X is the domain of possible values for the bentness, where bentness is defined to be the probability of heads in the frequentist sense, for this coin.\n",
    "\n",
    "We're in the business of arriving at a degree of belief for various values the true bentness might be. We're achieving this using the sum and product rule only.\n",
    "There is NO optimization happening here: we're simply updating beliefs in the light of new data.\n",
    "\n",
    "How we do that:\n",
    "   * everytime there's a \"Head\" the likelihood of that is the bentness itself, so we multiply the prior by that, for all values of b we're interested in (which is heaps of discrete possibilities here between 0 and 1).\n",
    "   * everytime there's a \"Tail\" the likelihood is 1 minus the bentness, so... ditto.\n",
    "   * we need to ensure the posterior distribution is _normalised_ , meaning the density would sum to 1 if we integrated it over the domain. Easily done here (but often hard to do in more realistic sized inference problems)\n",
    "\n",
    "Finally, let's do the same thing a bunch of times and see if the result is \"correct\"."
   ]
  },
  {
   "cell_type": "code",
   "execution_count": 12,
   "metadata": {
    "collapsed": false
   },
   "outputs": [
    {
     "name": "stdout",
     "output_type": "stream",
     "text": [
      "NUMBER OF DATA POINTS: 108\n",
      "TRUE BENTNESS: 0.400000\n",
      "MAP ESTIMATE: 0.460000\n"
     ]
    },
    {
     "data": {
      "image/png": "[encoded data removed]",
      "text/plain": [
       "<matplotlib.figure.Figure at 0x4643b38>"
      ]
     },
     "metadata": {},
     "output_type": "display_data"
    }
   ],
   "source": [
    "for t in range(100):\n",
    "    data, posterior = toss_once(data, prior, possible_bentnesses, true_bentness)\n",
    "    prior = posterior\n",
    "print ('NUMBER OF DATA POINTS: %d' %(len(data)))\n",
    "print ('TRUE BENTNESS: %f' %(true_bentness))\n",
    "print ('MAP ESTIMATE: %f' %(possible_bentnesses[np.argmax(posterior)]))"
   ]
  },
  {
   "cell_type": "code",
   "execution_count": null,
   "metadata": {
    "collapsed": true
   },
   "outputs": [],
   "source": []
  }
 ],
 "metadata": {
  "kernelspec": {
   "display_name": "Python 3",
   "language": "python",
   "name": "python3"
  },
  "language_info": {
   "codemirror_mode": {
    "name": "ipython",
    "version": 3
   },
   "file_extension": ".py",
   "mimetype": "text/x-python",
   "name": "python",
   "nbconvert_exporter": "python",
   "pygments_lexer": "ipython3",
   "version": "3.4.3"
  }
 },
 "nbformat": 4,
 "nbformat_minor": 0
}
