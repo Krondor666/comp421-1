{
 "metadata": {
  "name": ""
 },
 "nbformat": 3,
 "nbformat_minor": 0,
 "worksheets": [
  {
   "cells": [
    {
     "cell_type": "markdown",
     "metadata": {},
     "source": [
      "Just some basic playing with matrices and plots in numpy and matplotlib.\n",
      "\n",
      "First, some boilerplate to import basics and shorten names. I start pretty much everything with this."
     ]
    },
    {
     "cell_type": "code",
     "collapsed": false,
     "input": [
      "%matplotlib inline\n",
      "import matplotlib\n",
      "import numpy as np\n",
      "import matplotlib.pyplot as plt\n",
      "import numpy.random as rng\n",
      "np.set_printoptions(precision = 2)"
     ],
     "language": "python",
     "metadata": {},
     "outputs": [],
     "prompt_number": 74
    },
    {
     "cell_type": "markdown",
     "metadata": {},
     "source": [
      "Random matrices are easy, and you can ask any numpy array such as this its shape:"
     ]
    },
    {
     "cell_type": "code",
     "collapsed": false,
     "input": [
      "A = rng.random((4,6))\n",
      "print(A)\n",
      "print(A.shape)"
     ],
     "language": "python",
     "metadata": {},
     "outputs": [
      {
       "output_type": "stream",
       "stream": "stdout",
       "text": [
        "[[ 0.94  0.41  0.07  0.26  0.15  0.63]\n",
        " [ 0.48  0.39  0.91  0.35  0.64  0.35]\n",
        " [ 0.03  0.2   0.99  0.96  0.39  0.1 ]\n",
        " [ 0.19  0.21  0.29  0.6   0.67  0.48]]\n",
        "(4, 6)\n"
       ]
      }
     ],
     "prompt_number": 75
    },
    {
     "cell_type": "markdown",
     "metadata": {},
     "source": [
      "Think vectors and matrices instead of loops:"
     ]
    },
    {
     "cell_type": "code",
     "collapsed": false,
     "input": [
      "B = 1*(A > 0.25)\n",
      "print(B)"
     ],
     "language": "python",
     "metadata": {},
     "outputs": [
      {
       "output_type": "stream",
       "stream": "stdout",
       "text": [
        "[[1 1 0 1 0 1]\n",
        " [1 1 1 1 1 1]\n",
        " [0 0 1 1 1 0]\n",
        " [0 0 1 1 1 1]]\n"
       ]
      }
     ],
     "prompt_number": 76
    },
    {
     "cell_type": "code",
     "collapsed": false,
     "input": [
      "# matrix multiplication is a \"dot product\"\n",
      "C = rng.random((5,4))\n",
      "D = np.dot(C,B)\n",
      "print(D)"
     ],
     "language": "python",
     "metadata": {},
     "outputs": [
      {
       "output_type": "stream",
       "stream": "stdout",
       "text": [
        "[[ 1.11  1.11  1.95  2.31  1.95  1.95]\n",
        " [ 0.91  0.91  1.18  1.94  1.18  1.02]\n",
        " [ 0.95  0.95  2.53  2.71  2.53  1.76]\n",
        " [ 0.63  0.63  1.73  2.25  1.73  1.5 ]\n",
        " [ 1.16  1.16  1.36  2.12  1.36  1.54]]\n"
       ]
      }
     ],
     "prompt_number": 77
    },
    {
     "cell_type": "markdown",
     "metadata": {},
     "source": [
      "Make pictures of it instead of numbers:"
     ]
    },
    {
     "cell_type": "code",
     "collapsed": false,
     "input": [
      "plt.imshow(D, interpolation='nearest', cmap='hot')\n",
      "plt.colorbar()"
     ],
     "language": "python",
     "metadata": {},
     "outputs": [
      {
       "metadata": {},
       "output_type": "pyout",
       "prompt_number": 70,
       "text": [
        "<matplotlib.colorbar.Colorbar instance at 0xb0a8692c>"
       ]
      },
      {
       "metadata": {},
       "output_type": "display_data",
       "png": "[encoded data removed]",
       "text": [
        "<matplotlib.figure.Figure at 0xb0b1a2cc>"
       ]
      }
     ],
     "prompt_number": 70
    },
    {
     "cell_type": "code",
     "collapsed": false,
     "input": [
      "plt.plot(D)"
     ],
     "language": "python",
     "metadata": {},
     "outputs": [
      {
       "metadata": {},
       "output_type": "pyout",
       "prompt_number": 71,
       "text": [
        "[<matplotlib.lines.Line2D at 0xb0a6170c>,\n",
        " <matplotlib.lines.Line2D at 0xb0a6190c>,\n",
        " <matplotlib.lines.Line2D at 0xb0a61b6c>,\n",
        " <matplotlib.lines.Line2D at 0xb0a61d0c>,\n",
        " <matplotlib.lines.Line2D at 0xb0a61eac>,\n",
        " <matplotlib.lines.Line2D at 0xb0a6606c>]"
       ]
      },
      {
       "metadata": {},
       "output_type": "display_data",
       "png": "[encoded data removed]",
       "text": [
        "<matplotlib.figure.Figure at 0xb0b1a46c>"
       ]
      }
     ],
     "prompt_number": 71
    },
    {
     "cell_type": "markdown",
     "metadata": {},
     "source": [
      "You can \"slice\" arrays, like this:"
     ]
    },
    {
     "cell_type": "code",
     "collapsed": false,
     "input": [
      "print(C)"
     ],
     "language": "python",
     "metadata": {},
     "outputs": [
      {
       "output_type": "stream",
       "stream": "stdout",
       "text": [
        "[[ 0.47  0.39  0.48  0.61]\n",
        " [ 0.77  0.06  0.37  0.87]\n",
        " [ 0.16  0.44  0.09  0.62]\n",
        " [ 0.5   0.61  0.46  0.43]\n",
        " [ 0.5   0.6   0.83  0.19]]\n"
       ]
      }
     ],
     "prompt_number": 72
    },
    {
     "cell_type": "code",
     "collapsed": false,
     "input": [
      "print (C[1:3])"
     ],
     "language": "python",
     "metadata": {},
     "outputs": [
      {
       "output_type": "stream",
       "stream": "stdout",
       "text": [
        "[[ 0.76  0.15  0.92  0.11]\n",
        " [ 0.18  0.77  0.95  0.81]]\n"
       ]
      }
     ],
     "prompt_number": 78
    },
    {
     "cell_type": "markdown",
     "metadata": {},
     "source": [
      "And of course there's stuff like..."
     ]
    },
    {
     "cell_type": "code",
     "collapsed": false,
     "input": [
      "print (np.mean(C,axis=1))"
     ],
     "language": "python",
     "metadata": {},
     "outputs": [
      {
       "output_type": "stream",
       "stream": "stdout",
       "text": [
        "[ 0.58  0.48  0.68  0.56  0.53]\n"
       ]
      }
     ],
     "prompt_number": 83
    },
    {
     "cell_type": "code",
     "collapsed": false,
     "input": [
      "from numpy.linalg import inv\n",
      "D = rng.randint(1,5, size=(4,4))\n",
      "print (D)\n",
      "print (inv(D))\n",
      "print (inv(inv(D)))"
     ],
     "language": "python",
     "metadata": {},
     "outputs": [
      {
       "output_type": "stream",
       "stream": "stdout",
       "text": [
        "[[3 2 1 2]\n",
        " [4 4 4 4]\n",
        " [2 1 3 4]\n",
        " [1 2 1 1]]\n",
        "[[  3.33e-01   4.17e-01  -3.33e-01  -1.00e+00]\n",
        " [  2.22e-16  -2.50e-01   1.11e-16   1.00e+00]\n",
        " [ -6.67e-01   9.17e-01  -3.33e-01  -1.00e+00]\n",
        " [  3.33e-01  -8.33e-01   6.67e-01   1.00e+00]]\n",
        "[[ 3.  2.  1.  2.]\n",
        " [ 4.  4.  4.  4.]\n",
        " [ 2.  1.  3.  4.]\n",
        " [ 1.  2.  1.  1.]]\n"
       ]
      }
     ],
     "prompt_number": 112
    },
    {
     "cell_type": "markdown",
     "metadata": {},
     "source": [
      "### What about some neurons"
     ]
    },
    {
     "cell_type": "code",
     "collapsed": false,
     "input": [
      "def sigmoid( phi ):\n",
      "    y = 1.0/ (1.0 + np.exp(phi))\n",
      "    return y"
     ],
     "language": "python",
     "metadata": {},
     "outputs": [],
     "prompt_number": 113
    },
    {
     "cell_type": "code",
     "collapsed": false,
     "input": [
      "x = np.array([1,2,5,3,4])\n",
      "w = rng.random(x.shape) # just making it the same shape as the input here\n",
      "phi = np.dot(x, w)\n",
      "print sigmoid(phi)"
     ],
     "language": "python",
     "metadata": {},
     "outputs": [
      {
       "output_type": "stream",
       "stream": "stdout",
       "text": [
        "0.00578667804493\n"
       ]
      }
     ],
     "prompt_number": 124
    },
    {
     "cell_type": "code",
     "collapsed": false,
     "input": [
      "# Or we can do a bunch at once, like a training set...\n",
      "npats, nins = 10, 5\n",
      "x = rng.randint(0,2,(npats, nins))  # ie. each row in an input vector\n",
      "phi = np.dot(x, w)\n",
      "print sigmoid(phi)"
     ],
     "language": "python",
     "metadata": {},
     "outputs": [
      {
       "output_type": "stream",
       "stream": "stdout",
       "text": [
        "[ 0.39  0.39  0.29  0.11  0.43  0.23  0.25  0.34  0.39  0.33]\n"
       ]
      }
     ],
     "prompt_number": 129
    },
    {
     "cell_type": "markdown",
     "metadata": {},
     "source": [
      "You'll often have to just look at shapes of matrices to get things aligned for dot products:"
     ]
    },
    {
     "cell_type": "code",
     "collapsed": false,
     "input": [
      "print(x.shape, w.shape)"
     ],
     "language": "python",
     "metadata": {},
     "outputs": [
      {
       "output_type": "stream",
       "stream": "stdout",
       "text": [
        "((10, 5), (5,))\n"
       ]
      }
     ],
     "prompt_number": 130
    },
    {
     "cell_type": "code",
     "collapsed": false,
     "input": [],
     "language": "python",
     "metadata": {},
     "outputs": []
    }
   ],
   "metadata": {}
  }
 ]
}