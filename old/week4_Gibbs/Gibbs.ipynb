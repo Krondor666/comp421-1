{
 "cells": [
  {
   "cell_type": "markdown",
   "metadata": {},
   "source": [
    "## Gibbs sampler\n",
    "We're going to try out Gibbs sampling on the hypercube. The simplest possible case surely?\n",
    "\n",
    "ie. there are $N$ variables, and they're all binary, so there are $2^N$ states, which are the vertices of a hypercube in $N$ dimensions.\n",
    "\n",
    "We'll specify some probability $P(\\mathbf{x})$ for each pattern (= binary string) $\\mathbf{x}$.\n",
    "\n",
    "Then we'll run heaps of Gibbs Sampler updates from some initial state, and count how often the sampler visits each state.\n",
    "\n",
    "If we're right, these counts should come to match our target distribution: bingo!"
   ]
  },
  {
   "cell_type": "code",
   "execution_count": 24,
   "metadata": {
    "collapsed": true
   },
   "outputs": [],
   "source": [
    "%matplotlib inline\n",
    "import matplotlib as mpl\n",
    "import numpy as np\n",
    "import matplotlib.pyplot as plt\n",
    "import numpy.random as rng\n",
    "np.set_printoptions(precision = 2, suppress = True)\n",
    "import time\n",
    "rng.seed(int(time.time())) # seed the random number generator"
   ]
  },
  {
   "cell_type": "code",
   "execution_count": 25,
   "metadata": {
    "collapsed": false
   },
   "outputs": [
    {
     "name": "stdout",
     "output_type": "stream",
     "text": [
      "[[0 0 0]\n",
      " [0 0 1]\n",
      " [0 1 0]\n",
      " [0 1 1]\n",
      " [1 0 0]\n",
      " [1 0 1]\n",
      " [1 1 0]\n",
      " [1 1 1]]\n"
     ]
    }
   ],
   "source": [
    "# make up an array with each row being one of the binary patterns. Do 'em all.\n",
    "N = 3\n",
    "# Oh dear: there are better ways to do this than simply reciting, but it's 3:55pm!\n",
    "inpats = np.array([[0,0,0], [0,0,1], [0,1,0], [0,1,1], [1,0,0], [1,0,1], [1,1,0], [1,1,1]])\n",
    "print (inpats)"
   ]
  },
  {
   "cell_type": "code",
   "execution_count": 26,
   "metadata": {
    "collapsed": false
   },
   "outputs": [
    {
     "name": "stdout",
     "output_type": "stream",
     "text": [
      "[[ 0.21]\n",
      " [ 0.  ]\n",
      " [ 0.03]\n",
      " [ 0.2 ]\n",
      " [ 0.18]\n",
      " [ 0.23]\n",
      " [ 0.07]\n",
      " [ 0.08]]\n"
     ]
    }
   ],
   "source": [
    "# Make up some probability distribution over all the inpats\n",
    "targetProbs = rng.random(size=(len(inpats),1))\n",
    "targetProbs = targetProbs / targetProbs.sum()\n",
    "print (targetProbs)"
   ]
  },
  {
   "cell_type": "markdown",
   "metadata": {},
   "source": [
    "## Gibbs goes here"
   ]
  },
  {
   "cell_type": "code",
   "execution_count": 27,
   "metadata": {
    "collapsed": true
   },
   "outputs": [],
   "source": [
    "# do it\n"
   ]
  },
  {
   "cell_type": "markdown",
   "metadata": {},
   "source": [
    "## compare samples made by Gibbs with the target distribution"
   ]
  },
  {
   "cell_type": "code",
   "execution_count": 28,
   "metadata": {
    "collapsed": true
   },
   "outputs": [],
   "source": [
    "# do it, visually if possible.\n"
   ]
  }
 ],
 "metadata": {
  "kernelspec": {
   "display_name": "Python 3",
   "language": "python",
   "name": "python3"
  },
  "language_info": {
   "codemirror_mode": {
    "name": "ipython",
    "version": 3
   },
   "file_extension": ".py",
   "mimetype": "text/x-python",
   "name": "python",
   "nbconvert_exporter": "python",
   "pygments_lexer": "ipython3",
   "version": "3.4.3"
  }
 },
 "nbformat": 4,
 "nbformat_minor": 0
}
