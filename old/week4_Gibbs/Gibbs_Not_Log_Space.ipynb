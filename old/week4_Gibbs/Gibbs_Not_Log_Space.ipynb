{
 "cells": [
  {
   "cell_type": "markdown",
   "metadata": {},
   "source": [
    "## Gibbs sampler\n",
    "-----\n",
    "#####(This needs iPython3 btw)\n",
    "We're going to try out Gibbs sampling on the hypercube. The simplest possible case surely?\n",
    "\n",
    "ie. there are $N$ variables, and they're all binary, so there are $2^N$ states, which are the vertices of a hypercube in $N$ dimensions.\n",
    "\n",
    "We'll specify some probability $P(\\mathbf{x})$ for each pattern (= binary string) $\\mathbf{x}$.\n",
    "\n",
    "Then we'll run heaps of Gibbs Sampler updates from some initial state, and count how often the sampler visits each state.\n",
    "\n",
    "If we're right, these counts should come to match our target distribution: bingo!"
   ]
  },
  {
   "cell_type": "code",
   "execution_count": 1,
   "metadata": {
    "collapsed": true
   },
   "outputs": [],
   "source": [
    "%matplotlib inline\n",
    "import matplotlib as mpl\n",
    "import numpy as np\n",
    "import matplotlib.pyplot as plt\n",
    "import numpy.random as rng\n",
    "np.set_printoptions(precision = 2, suppress = True)\n",
    "import time\n",
    "rng.seed(int(time.time())) # seed the random number generator\n",
    "from collections import Counter"
   ]
  },
  {
   "cell_type": "code",
   "execution_count": 2,
   "metadata": {
    "collapsed": false
   },
   "outputs": [
    {
     "name": "stdout",
     "output_type": "stream",
     "text": [
      "[[0 0 0]\n",
      " [0 0 1]\n",
      " [0 1 0]\n",
      " [0 1 1]\n",
      " [1 0 0]\n",
      " [1 0 1]\n",
      " [1 1 0]\n",
      " [1 1 1]]\n"
     ]
    }
   ],
   "source": [
    "# make up an array with each row being one of the binary patterns. Do 'em all.\n",
    "N = 3\n",
    "# Oh dear: there are better ways to do this than simply reciting, but it's 3:55pm!\n",
    "inpats = np.array([[0,0,0], [0,0,1], [0,1,0], [0,1,1], [1,0,0], [1,0,1], [1,1,0], [1,1,1]])\n",
    "print (inpats)"
   ]
  },
  {
   "cell_type": "code",
   "execution_count": 3,
   "metadata": {
    "collapsed": false
   },
   "outputs": [
    {
     "name": "stdout",
     "output_type": "stream",
     "text": [
      "[[ 0.11]\n",
      " [ 0.16]\n",
      " [ 0.18]\n",
      " [ 0.05]\n",
      " [ 0.03]\n",
      " [ 0.29]\n",
      " [ 0.18]\n",
      " [ 0.  ]]\n"
     ]
    }
   ],
   "source": [
    "# Make up some probability distribution over all the inpats\n",
    "targetProbs = rng.random(size=(len(inpats),1))\n",
    "targetProbs = targetProbs / targetProbs.sum()\n",
    "print (targetProbs)"
   ]
  },
  {
   "cell_type": "markdown",
   "metadata": {},
   "source": [
    "## Gibbs goes here"
   ]
  },
  {
   "cell_type": "code",
   "execution_count": 4,
   "metadata": {
    "collapsed": false
   },
   "outputs": [
    {
     "data": {
      "text/plain": [
       "{(0, 0, 0): 0.10828153451501123,\n",
       " (0, 0, 1): 0.16013558650076271,\n",
       " (0, 1, 0): 0.17512854581802617,\n",
       " (0, 1, 1): 0.050771050408009534,\n",
       " (1, 0, 0): 0.032772783034612174,\n",
       " (1, 0, 1): 0.28760662605185761,\n",
       " (1, 1, 0): 0.18246863583307379,\n",
       " (1, 1, 1): 0.0028352378386467835}"
      ]
     },
     "execution_count": 4,
     "metadata": {},
     "output_type": "execute_result"
    }
   ],
   "source": [
    "# create a dictionary of patterns to their probabilities\n",
    "probs = {}\n",
    "i = 0\n",
    "for pat in inpats:\n",
    "    probs[tuple(pat)] = targetProbs[i][0]\n",
    "    i += 1\n",
    "probs "
   ]
  },
  {
   "cell_type": "code",
   "execution_count": 5,
   "metadata": {
    "collapsed": true
   },
   "outputs": [],
   "source": [
    "def gibbs_step(x, probs):\n",
    "    \"\"\"Perform one gibbs step, moving in one dimension\"\"\"\n",
    "    \n",
    "    # generate random dimension, j\n",
    "    j = rng.randint(0,3)\n",
    "    \n",
    "    # ugh this isn't very pretty sorry!\n",
    "    x_j_one = np.copy(x)\n",
    "    x_j_one[j] = 1 # the x pattern where dim j is 1\n",
    "    x_j_zero = np.copy(x)\n",
    "    x_j_zero[j] = 0 # and x pattern where dim j is 0\n",
    "    \n",
    "    \n",
    "    # grab the probabilies of x where j = 1 and 0 respectively\n",
    "    p_j_one = probs[tuple(x_j_one)]\n",
    "    p_j_not_one = probs[tuple(x_j_zero)]\n",
    "    \n",
    "    # Gibbs gives us the probability that it should turn x[j] to 1\n",
    "    p_takes_one = p_j_one / (p_j_not_one + p_j_one)\n",
    "    \n",
    "    # bent coin flip\n",
    "    if rng.random() <= p_takes_one:\n",
    "        return x_j_one\n",
    "    else:\n",
    "        return x_j_zero\n",
    "    \n",
    "def gibbs_sampling(probs, epochs = 100, samples = 1000):\n",
    "    \"\"\"Perform gibbs sampling, epochs here is the number of gibbs steps to take between grabbing a sample, \n",
    "    we want it to explore the state space. Samples is the number of samples we will take. \"\"\"\n",
    "    \n",
    "    # dictionary from sample to number of times it has occurred\n",
    "    results = Counter()\n",
    "    \n",
    "    # we start from a random pattern\n",
    "    x = rng.randint(0,2,(3))\n",
    "    for samples in range(samples):\n",
    "        for epoch in range(epochs):\n",
    "            # do a gibbs step\n",
    "            x = gibbs_step(x, probs)\n",
    "        # grab a sample! and increment it's count\n",
    "        results[tuple(x)] += 1\n",
    "    return results"
   ]
  },
  {
   "cell_type": "code",
   "execution_count": 6,
   "metadata": {
    "collapsed": false
   },
   "outputs": [],
   "source": [
    "def normalise_counter(to_normalise,z):\n",
    "    \"\"\"Takes a Dictionary from Sample to count and normalises it, so we end up with a\n",
    "    dictionary from sample to its approximated probability\"\"\"\n",
    "    normalised_result = Counter()\n",
    "    for key in to_normalise:\n",
    "        normalised_result[key] += (to_normalise[key]/z)\n",
    "    return normalised_result\n",
    "\n",
    "def plot_dict(to_plot,series_two , title = \"\", size = None):\n",
    "    \"\"\"A messy helper function to plot the data\"\"\"\n",
    "    keys = list(to_plot.keys())\n",
    "    keys.sort()\n",
    "    vals_one = []\n",
    "    vals_two = []\n",
    "    for key in keys:\n",
    "        vals_one.append(to_plot[key])\n",
    "        vals_two.append(series_two[key])\n",
    " \n",
    "    if size is not None:\n",
    "        plt.figure(figsize=(30,15))\n",
    "    plt.title = title \n",
    "    width = 0.25\n",
    "    plt.bar(np.array(list(range(len(vals_one)))) + width, vals_one,width=width,color = 'g',align= 'center')\n",
    "    plt.bar(range(len(vals_two)),vals_two,width=width,color = 'b', align= 'center')\n",
    "    plt.xticks(range(len(keys)), keys, rotation='vertical')\n",
    "    plt.show()"
   ]
  },
  {
   "cell_type": "markdown",
   "metadata": {},
   "source": [
    "## compare samples made by Gibbs with the target distribution"
   ]
  },
  {
   "cell_type": "code",
   "execution_count": 7,
   "metadata": {
    "collapsed": false
   },
   "outputs": [],
   "source": [
    "# do it, visually if possible.\n",
    "num_samples = 1000\n",
    "results = gibbs_sampling(probs, samples=num_samples)"
   ]
  },
  {
   "cell_type": "code",
   "execution_count": 8,
   "metadata": {
    "collapsed": false
   },
   "outputs": [],
   "source": [
    "normalised_result = normalise_counter(results, num_samples)"
   ]
  },
  {
   "cell_type": "code",
   "execution_count": 9,
   "metadata": {
    "collapsed": false
   },
   "outputs": [
    {
     "data": {
      "image/png": "[encoded data removed]",
      "text/plain": [
       "<matplotlib.figure.Figure at 0x110c9dc50>"
      ]
     },
     "metadata": {},
     "output_type": "display_data"
    }
   ],
   "source": [
    "# plot a comparison of the normalised sample counts and the actual probabilities\n",
    "plot_dict(normalised_result,probs)"
   ]
  },
  {
   "cell_type": "code",
   "execution_count": null,
   "metadata": {
    "collapsed": true
   },
   "outputs": [],
   "source": []
  }
 ],
 "metadata": {
  "kernelspec": {
   "display_name": "Python 3",
   "language": "python",
   "name": "python3"
  },
  "language_info": {
   "codemirror_mode": {
    "name": "ipython",
    "version": 3
   },
   "file_extension": ".py",
   "mimetype": "text/x-python",
   "name": "python",
   "nbconvert_exporter": "python",
   "pygments_lexer": "ipython3",
   "version": "3.4.3"
  }
 },
 "nbformat": 4,
 "nbformat_minor": 0
}
