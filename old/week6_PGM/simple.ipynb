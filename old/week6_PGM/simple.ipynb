{
 "cells": [
  {
   "cell_type": "markdown",
   "metadata": {},
   "source": [
    "# Illustration of sum-product algorithm running on a PGM\n",
    "\n",
    "This is code I wrote to demonstrate the sum-product algorithm running on a PGM, which is defined in a separate text file.\n",
    "The \"work\" is all done by the code in a class \"net\", which along with some other helper-stuff is in \"graphical_model.py\" (not shown here).\n",
    "\n",
    "Marcus Frean, 2013, for COMP421"
   ]
  },
  {
   "cell_type": "markdown",
   "metadata": {},
   "source": [
    "## setting up the PGM\n",
    "First thing, you need to import the network class."
   ]
  },
  {
   "cell_type": "code",
   "execution_count": 1,
   "metadata": {
    "collapsed": false
   },
   "outputs": [],
   "source": [
    "from graphical_model import *"
   ]
  },
  {
   "cell_type": "markdown",
   "metadata": {},
   "source": [
    "Next, suck in a representation of a network. Here's the file I'm going to use - you can see it's it's hardly xml: it's really basic!"
   ]
  },
  {
   "cell_type": "code",
   "execution_count": 2,
   "metadata": {
    "collapsed": false
   },
   "outputs": [],
   "source": [
    "infile = 'simple_network.txt'"
   ]
  },
  {
   "cell_type": "code",
   "execution_count": 3,
   "metadata": {
    "collapsed": false
   },
   "outputs": [
    {
     "name": "stdout",
     "output_type": "stream",
     "text": [
      "# Stick to this format or perish! \n",
      "#\n",
      "# This is the simplest graphical model I can think of.\n",
      "\n",
      "Variables: rain 2, wet 2\n",
      " \n",
      "# The numbers refer to number of possible states, e.g. 'rain 2' means\n",
      "# rain has two possible states, 0 and 1. (Nb. states don't get to have\n",
      "# names here, they're just integers.)\n",
      "\n",
      "Factor: RainPrior\n",
      "normalised\n",
      "# NB. 'normalised' (will be checked) vs 'unnormalised' (won't). \n",
      "connects to: rain\n",
      "0 .5\n",
      "1 .5\n",
      "\n",
      "Factor: ProbOfWet\n",
      "normalised\n",
      "connects to: rain, wet\n",
      "# Nb. the order of vars after 'connects to' determines the order in the table\n",
      "0 0 .7\n",
      "0 1 .3\n",
      "1 0 .1\n",
      "1 1 .9\n",
      "\n"
     ]
    }
   ],
   "source": [
    "# this is just to print it out here so we can have a look...\n",
    "f = open(infile)  \n",
    "print (f.read())\n",
    "f.close()"
   ]
  },
  {
   "cell_type": "markdown",
   "metadata": {},
   "source": [
    "Now make a network based on that:"
   ]
  },
  {
   "cell_type": "code",
   "execution_count": 4,
   "metadata": {
    "collapsed": false
   },
   "outputs": [
    {
     "name": "stdout",
     "output_type": "stream",
     "text": [
      "Factor RainPrior already normalised\n",
      "Factor ProbOfWet already normalised\n"
     ]
    }
   ],
   "source": [
    "net = DiscreteGraphicalModel(infile)"
   ]
  },
  {
   "cell_type": "markdown",
   "metadata": {},
   "source": [
    "As you can see, it's noticed that some factors are normalised. "
   ]
  },
  {
   "cell_type": "markdown",
   "metadata": {},
   "source": [
    "## Run the sum-product algorithm\n",
    "\n",
    "Let's run message passing, with no observations:"
   ]
  },
  {
   "cell_type": "code",
   "execution_count": 5,
   "metadata": {
    "collapsed": false
   },
   "outputs": [
    {
     "name": "stdout",
     "output_type": "stream",
     "text": [
      "Initialising all messages\n",
      "\t Initial ding from terminal node RainPrior --> rain\n",
      "\t Initial ding from terminal node wet to ProbOfWet\n",
      "Messages propagated.\n",
      "\n",
      "\n"
     ]
    }
   ],
   "source": [
    "net.propagate_messages()"
   ]
  },
  {
   "cell_type": "code",
   "execution_count": 6,
   "metadata": {
    "collapsed": false
   },
   "outputs": [
    {
     "name": "stdout",
     "output_type": "stream",
     "text": [
      "---------------------------------------------------------\n",
      "Descriptions of the variables:\n",
      "---------------------------------------------------------\n",
      "node wet\n",
      "\t msg from factor ProbOfWet is [ 0.4  0.6]\n",
      "\t posterior: [ 0.4  0.6]\n",
      "----------\n",
      "node rain\n",
      "\t msg from factor RainPrior is [ 0.5  0.5]\n",
      "\t msg from factor ProbOfWet is [ 1.  1.]\n",
      "\t posterior: [ 0.5  0.5]\n",
      "----------\n"
     ]
    }
   ],
   "source": [
    "net.describe()"
   ]
  },
  {
   "cell_type": "markdown",
   "metadata": {},
   "source": [
    "## Make an observation\n",
    "\n",
    "Suppose we observe \"wet\"to be true (takes value 1). This line makes the observation, which generates a cascade of messages (okay, it's hardly a cascade in this case!). "
   ]
  },
  {
   "cell_type": "code",
   "execution_count": 7,
   "metadata": {
    "collapsed": false
   },
   "outputs": [
    {
     "name": "stdout",
     "output_type": "stream",
     "text": [
      "OBSERVATION: wet is seen to be in state 1\n",
      "\t Initial ding from terminal node factor representing obs of wet --> wet\n"
     ]
    }
   ],
   "source": [
    "net.observe('wet',1)"
   ]
  },
  {
   "cell_type": "markdown",
   "metadata": {},
   "source": [
    "And now the posterior over \"rain\" ought to be different..."
   ]
  },
  {
   "cell_type": "code",
   "execution_count": 8,
   "metadata": {
    "collapsed": false
   },
   "outputs": [
    {
     "name": "stdout",
     "output_type": "stream",
     "text": [
      "---------------------------------------------------------\n",
      "Descriptions of the variables:\n",
      "---------------------------------------------------------\n",
      "node wet\n",
      "\t Has been OBSERVED\n",
      "\t posterior: [ 0.  1.]\n",
      "----------\n",
      "node rain\n",
      "\t msg from factor RainPrior is [ 0.5  0.5]\n",
      "\t msg from factor ProbOfWet is [ 0.3  0.9]\n",
      "\t posterior: [ 0.25  0.75]\n",
      "----------\n"
     ]
    }
   ],
   "source": [
    "net.describe()"
   ]
  }
 ],
 "metadata": {
  "kernelspec": {
   "display_name": "Python 3",
   "language": "python",
   "name": "python3"
  },
  "language_info": {
   "codemirror_mode": {
    "name": "ipython",
    "version": 3
   },
   "file_extension": ".py",
   "mimetype": "text/x-python",
   "name": "python",
   "nbconvert_exporter": "python",
   "pygments_lexer": "ipython3",
   "version": "3.4.3"
  }
 },
 "nbformat": 4,
 "nbformat_minor": 0
}
