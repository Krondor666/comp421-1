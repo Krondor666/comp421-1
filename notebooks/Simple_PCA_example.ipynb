{
 "cells": [
  {
   "cell_type": "markdown",
   "metadata": {},
   "source": [
    "# A simple 2-D example of PCA\n",
    "(Adapted from http://stackoverflow.com/questions/18299523/basic-example-for-pca-with-matplotlib)"
   ]
  },
  {
   "cell_type": "code",
   "execution_count": 35,
   "metadata": {
    "collapsed": true
   },
   "outputs": [],
   "source": [
    "%matplotlib inline\n",
    "import numpy as np\n",
    "import matplotlib.pyplot as plt"
   ]
  },
  {
   "cell_type": "markdown",
   "metadata": {},
   "source": [
    "## Make up some random 2-dimensional data"
   ]
  },
  {
   "cell_type": "code",
   "execution_count": 36,
   "metadata": {
    "collapsed": false
   },
   "outputs": [
    {
     "name": "stdout",
     "output_type": "stream",
     "text": [
      "data has shape  (100, 2)\n",
      "[[ -470.05671402 -1511.07639923]\n",
      " [ -461.55085004 -1585.03438458]\n",
      " [ -405.05288653 -1333.38325604]\n",
      " [ -640.39722677 -1411.28049421]\n",
      " [ -406.02726044 -1369.60821277]]\n"
     ]
    }
   ],
   "source": [
    "N = 100\n",
    "xTrue = np.linspace(0, 1000, N)\n",
    "yTrue = 3 * xTrue\n",
    "xData = xTrue + np.random.normal(0, 100, N)\n",
    "yData = yTrue + np.random.normal(0, 100, N)\n",
    "xData = np.reshape(xData, (N, 1))\n",
    "yData = np.reshape(yData, (N, 1))\n",
    "data = np.hstack((xData, yData))\n",
    "\n",
    "# We first move the data so that it has mean of zero in each dimension\n",
    "mu = data.mean(axis=0)\n",
    "data = data - mu\n",
    "\n",
    "print(\"data has shape \",data.shape)\n",
    "print(data[0:5,:]) # the first few rows of the data matrix"
   ]
  },
  {
   "cell_type": "markdown",
   "metadata": {},
   "source": [
    "## \"SVD\" is one technique from linear algebra for finding the principal components."
   ]
  },
  {
   "cell_type": "code",
   "execution_count": 37,
   "metadata": {
    "collapsed": false
   },
   "outputs": [
    {
     "name": "stdout",
     "output_type": "stream",
     "text": [
      "Here are the eigenvectors found using np.linalg.svd:\n",
      "[[-0.31249321 -0.94991999]\n",
      " [-0.94991999  0.31249321]]\n",
      "The eigenvalues are:\n",
      "[ 9295.644733    1083.67746883]\n"
     ]
    }
   ],
   "source": [
    "eigenvectors, eigenvalues, V = np.linalg.svd(data.T, full_matrices=False)\n",
    "projected_data = np.dot(data, eigenvectors)\n",
    "sigma = projected_data.std(axis=0).mean()\n",
    "print(\"Here are the eigenvectors found using np.linalg.svd:\")\n",
    "print(eigenvectors)\n",
    "print(\"The eigenvalues are:\")\n",
    "print(eigenvalues)"
   ]
  },
  {
   "cell_type": "markdown",
   "metadata": {},
   "source": [
    "## Now plot the data, and the principal components."
   ]
  },
  {
   "cell_type": "code",
   "execution_count": 38,
   "metadata": {
    "collapsed": false
   },
   "outputs": [
    {
     "data": {
      "image/png": "[encoded data removed]",
      "text/plain": [
       "<matplotlib.figure.Figure at 0x7fb3fedc0748>"
      ]
     },
     "metadata": {},
     "output_type": "display_data"
    }
   ],
   "source": [
    "fig, ax = plt.subplots()\n",
    "ax.scatter(xData, yData)\n",
    "for axis in eigenvectors:\n",
    "    start, end = mu, mu + sigma * axis\n",
    "    ax.annotate(\n",
    "        '', xy=end, xycoords='data',\n",
    "        xytext=start, textcoords='data',\n",
    "        arrowprops=dict(facecolor='red', width=2.0))\n",
    "ax.set_aspect('equal')\n",
    "plt.show()"
   ]
  },
  {
   "cell_type": "code",
   "execution_count": null,
   "metadata": {
    "collapsed": true
   },
   "outputs": [],
   "source": []
  }
 ],
 "metadata": {
  "kernelspec": {
   "display_name": "Python 3",
   "language": "python",
   "name": "python3"
  },
  "language_info": {
   "codemirror_mode": {
    "name": "ipython",
    "version": 3
   },
   "file_extension": ".py",
   "mimetype": "text/x-python",
   "name": "python",
   "nbconvert_exporter": "python",
   "pygments_lexer": "ipython3",
   "version": "3.5.1"
  }
 },
 "nbformat": 4,
 "nbformat_minor": 0
}
