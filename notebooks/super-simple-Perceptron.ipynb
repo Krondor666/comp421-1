{
 "cells": [
  {
   "cell_type": "code",
   "execution_count": 1,
   "metadata": {
    "collapsed": true
   },
   "outputs": [],
   "source": [
    "%matplotlib inline\n",
    "import numpy as np\n",
    "import numpy.random as rng\n",
    "import pylab as pl"
   ]
  },
  {
   "cell_type": "code",
   "execution_count": 2,
   "metadata": {
    "collapsed": false
   },
   "outputs": [
    {
     "name": "stdout",
     "output_type": "stream",
     "text": [
      "[[ 1.  0.  0.]\n",
      " [ 1.  1.  0.]\n",
      " [ 1.  0.  1.]\n",
      " [ 1.  1.  1.]]\n",
      "[[0]\n",
      " [0]\n",
      " [0]\n",
      " [1]]\n"
     ]
    }
   ],
   "source": [
    "X = np.array([[0,0],[1,0],[0,1],[1,1]])\n",
    "X = np.concatenate((np.ones((X.shape[0],1)), X), axis=1) # adds a \"bias input\" which is always 1\n",
    "Y = np.array([[0,0,0,1]]).T\n",
    "print(X)\n",
    "print(Y)"
   ]
  },
  {
   "cell_type": "code",
   "execution_count": 3,
   "metadata": {
    "collapsed": false
   },
   "outputs": [
    {
     "name": "stdout",
     "output_type": "stream",
     "text": [
      "[[ 0.45230678]\n",
      " [-1.02528226]\n",
      " [ 0.24675616]]\n"
     ]
    }
   ],
   "source": [
    "def show():\n",
    "    for i,x in enumerate(X):\n",
    "        if Y[i] == 1: pl.plot(x[1],x[2],'o',color='blue',markersize=20)\n",
    "        if Y[i] == 0: pl.plot(x[1],x[2],'o',color='red',markersize=20)\n",
    "        if (out[i] != Y[i]): pl.text(x[1]-0.2,x[2]+0.2,'WRONG') #pl.plot(x[1],x[2],'s',color='lightgreen',markersize=30) \n",
    "        \n",
    "    pl.plot([0, -w[0]/w[1]], [-w[0]/w[2], 0], '-k') # cheap & cheerful, only shows part of decision borderline\n",
    "    pl.axis((-1,2,-1,2))\n",
    "    pl.show()\n",
    "\n",
    "    \n",
    "w = rng.randn(3,1)\n",
    "print(w)\n",
    "rate = 1.0"
   ]
  },
  {
   "cell_type": "code",
   "execution_count": 9,
   "metadata": {
    "collapsed": false
   },
   "outputs": [
    {
     "name": "stdout",
     "output_type": "stream",
     "text": [
      "[[0]\n",
      " [0]\n",
      " [0]\n",
      " [1]]\n"
     ]
    },
    {
     "data": {
      "image/png": "[encoded data removed]",
      "text/plain": [
       "<matplotlib.figure.Figure at 0x7f7c39600b70>"
      ]
     },
     "metadata": {},
     "output_type": "display_data"
    }
   ],
   "source": [
    "out = np.where(np.dot(X,w) >0.0,1,0)\n",
    "print(out)\n",
    "show()\n",
    "w = w + rate * np.atleast_2d(np.sum((Y-out)*X, axis=0)).T   # one step of learning"
   ]
  },
  {
   "cell_type": "markdown",
   "metadata": {},
   "source": [
    "blah\n",
    "\n",
    "blah\n",
    "\n",
    "blah\n",
    "\n",
    "blah\n",
    "\n",
    "blah\n",
    "\n",
    "blah\n",
    "\n"
   ]
  },
  {
   "cell_type": "code",
   "execution_count": null,
   "metadata": {
    "collapsed": true
   },
   "outputs": [],
   "source": []
  }
 ],
 "metadata": {
  "kernelspec": {
   "display_name": "Python 3",
   "language": "python",
   "name": "python3"
  },
  "language_info": {
   "codemirror_mode": {
    "name": "ipython",
    "version": 3
   },
   "file_extension": ".py",
   "mimetype": "text/x-python",
   "name": "python",
   "nbconvert_exporter": "python",
   "pygments_lexer": "ipython3",
   "version": "3.5.1"
  }
 },
 "nbformat": 4,
 "nbformat_minor": 0
}
